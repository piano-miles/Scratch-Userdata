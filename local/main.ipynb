{
 "cells": [
  {
   "cell_type": "code",
   "execution_count": 1,
   "metadata": {},
   "outputs": [],
   "source": [
    "import os, requests, json, time\n",
    "from tqdm import tqdm\n",
    "# from multiprocessing import Pool\n",
    "# from multiprocessing import Process, Queue\n",
    "import multiprocessing as mp\n",
    "from math import *"
   ]
  },
  {
   "cell_type": "code",
   "execution_count": 2,
   "metadata": {},
   "outputs": [],
   "source": [
    "def jdump(obj): return json.dumps(obj, sort_keys=True, indent=4)\n",
    "def jget(url, i):\n",
    "    try:\n",
    "        response = requests.get(url)\n",
    "    except:\n",
    "        quit()\n",
    "    else:\n",
    "        if response.status_code == 200:\n",
    "            return json.loads(jdump(response.json()))\n",
    "        elif i<5:\n",
    "            print(str(response.status_code) + \"; Failed to fetch data, trying again in one second.\")\n",
    "            time.sleep(1)\n",
    "            jget(url, i+1)"
   ]
  },
  {
   "cell_type": "code",
   "execution_count": 4,
   "metadata": {},
   "outputs": [],
   "source": [
    "f = open('../json/users.json')\n",
    "users_info = json.load(f)\n",
    "usernames = users_info['usernames']\n",
    "follows = users_info['follows']\n",
    "f.close()"
   ]
  },
  {
   "cell_type": "code",
   "execution_count": 5,
   "metadata": {},
   "outputs": [
    {
     "name": "stderr",
     "output_type": "stream",
     "text": [
      "100%|██████████| 5/5 [00:11<00:00,  2.33s/it]"
     ]
    },
    {
     "name": "stdout",
     "output_type": "stream",
     "text": [
      "Data collected.\n"
     ]
    },
    {
     "name": "stderr",
     "output_type": "stream",
     "text": [
      "\n"
     ]
    }
   ],
   "source": [
    "userData = []\n",
    "sampleData = []\n",
    "\n",
    "\n",
    "def col(K):\n",
    "    # print(\"\\t\\tProcess \"+str(K))\n",
    "    sample = 0\n",
    "    username = usernames[K]\n",
    "    valid = jget('https://api.scratch.mit.edu/accounts/checkusername/' +\n",
    "                 username, 0)['msg'] == 'username exists'\n",
    "    if valid:\n",
    "        user = jget('https://api.scratch.mit.edu/users/'+username, 0)\n",
    "        projects = 40\n",
    "        off = 0\n",
    "        while projects > 39:\n",
    "            # print(username)\n",
    "            userData.append(user)\n",
    "            sample = jget('https://api.scratch.mit.edu/users/' +\n",
    "                        username+'/projects?limit=40&offset=' + str(off), 0)\n",
    "            # return sample\n",
    "            # print(\"\\t\\tAppending \"+username)\n",
    "            sampleData.append(sample)\n",
    "            # print(len(sample))\n",
    "            projects = len(sample)\n",
    "            off += 40\n",
    "\n",
    "# count = len(follows)\n",
    "count = 5\n",
    "\n",
    "for K in tqdm(range(5)):\n",
    "    col(K)\n",
    "\n",
    "if False:\n",
    "    size = mp.cpu_count()\n",
    "    print(size)\n",
    "    # pool = Pool(size)\n",
    "\n",
    "    def main(Kl):\n",
    "        pool = mp.Pool(size)\n",
    "        print(\"\\tmapping \" + str(Kl) + \" to col\")\n",
    "        result = pool.map(col, Kl)\n",
    "\n",
    "    batches = ceil(len(follows)/size)\n",
    "    for B in tqdm(range(batches)):\n",
    "        M = B*size\n",
    "        if __name__ == \"__main__\":\n",
    "            main(range(M, M+size))\n",
    "        print(str(B)+\"/\"+str(batches))\n",
    "\n",
    "if False:\n",
    "    for B in tqdm(range(ceil(len(follows)/size))):\n",
    "        M = B*size\n",
    "        if __name__ == \"__main__\":\n",
    "            queue = Queue()\n",
    "\n",
    "            processes = [Process(target=col, args=(K))\n",
    "                         for K in range(M, M+size)]\n",
    "\n",
    "            for p in processes:\n",
    "                p.start()\n",
    "\n",
    "            for p in processes:\n",
    "                p.join()\n",
    "\n",
    "if False:\n",
    "    for B in tqdm(range(ceil(len(follows)/size))):\n",
    "        M = B*size\n",
    "        S = [pool.apply(col, args=(K,)) for K in range(M, M+size)]\n",
    "        for s in S:\n",
    "            sampleData.append(s)\n",
    "\n",
    "if False:\n",
    "    for K in tqdm(ceil(range(len(follows))/size)):\n",
    "        # sample = col(K)\n",
    "        # sample = pool.apply_async(col, (K,))\n",
    "        M = K*size\n",
    "        samples = pool.map(col, range(M, M+size-1))\n",
    "        for sample in samples:\n",
    "            sampleData.append(sample)\n",
    "\n",
    "print(\"Data collected.\")"
   ]
  },
  {
   "cell_type": "code",
   "execution_count": 6,
   "metadata": {},
   "outputs": [
    {
     "name": "stdout",
     "output_type": "stream",
     "text": [
      "-- Processing data --\n"
     ]
    },
    {
     "name": "stderr",
     "output_type": "stream",
     "text": [
      "100%|██████████| 9/9 [00:00<00:00, 5572.59it/s]"
     ]
    },
    {
     "name": "stdout",
     "output_type": "stream",
     "text": [
      "File written to dataset.csv.\n"
     ]
    },
    {
     "name": "stderr",
     "output_type": "stream",
     "text": [
      "\n"
     ]
    }
   ],
   "source": [
    "data = 'User,,,,Average Project Statistics,,,,,,,\\nUsername,Followers,Country,Join Date,Views,Loves,Favorites,Remixes,Public,Published,Visible,Commentable,Projects\\n'\n",
    "\n",
    "print(\"-- Processing data --\")\n",
    "for K in tqdm(range(len(userData))):\n",
    "    # username = usernames[K]\n",
    "    user = userData[K]\n",
    "    username = user[\"username\"]\n",
    "    sample = sampleData[K]\n",
    "\n",
    "    country = user['profile']['country']\n",
    "    joinDate = user['history']['joined'].split('T')[0]\n",
    "\n",
    "    views = 0\n",
    "    loves = 0\n",
    "    favorites = 0\n",
    "    remixes = 0\n",
    "    public = 0\n",
    "    published = 0\n",
    "    visible = 0\n",
    "    commentable = 0\n",
    "    count = 0\n",
    "\n",
    "    for i in range(len(sample)):\n",
    "        project = sample[i]\n",
    "        views += project['stats']['views']\n",
    "        loves += project['stats']['loves']\n",
    "        favorites += project['stats']['favorites']\n",
    "        remixes += project['stats']['remixes']\n",
    "        public += 1 if project['public']else 0\n",
    "        published += 1 if project['is_published']else 0\n",
    "        visible += 1 if project['visibility'] == 'visible'else 0\n",
    "        commentable += 1 if project['comments_allowed']else 0\n",
    "\n",
    "        if project['public'] and project['is_published'] and project['visibility'] == 'visible':\n",
    "            count += 1\n",
    "\n",
    "    if count > 0:\n",
    "        views = str(views/count)\n",
    "        loves = str(loves/count)\n",
    "        favorites = str(favorites/count)\n",
    "        remixes = str(remixes/count)\n",
    "        public = str(public/count)\n",
    "        published = str(published/count)\n",
    "        visible = str(visible/count)\n",
    "        commentable = str(commentable/count)\n",
    "        projects = str(count)\n",
    "\n",
    "        data += username+','+follows[K].strip()+','+country+','+joinDate+','+views+','+loves + \\\n",
    "            ','+favorites+','+remixes+','+public+',' + \\\n",
    "            published+','+visible+','+commentable+\",\"+projects+'\\n'\n",
    "\n",
    "f = open('dataset.csv', 'w')\n",
    "f.write(data)\n",
    "f.close()\n",
    "print(\"File written to dataset.csv.\")\n"
   ]
  },
  {
   "cell_type": "code",
   "execution_count": null,
   "metadata": {},
   "outputs": [],
   "source": []
  }
 ],
 "metadata": {
  "kernelspec": {
   "display_name": "Python 3.8.3 64-bit",
   "language": "python",
   "name": "python3"
  },
  "language_info": {
   "codemirror_mode": {
    "name": "ipython",
    "version": 3
   },
   "file_extension": ".py",
   "mimetype": "text/x-python",
   "name": "python",
   "nbconvert_exporter": "python",
   "pygments_lexer": "ipython3",
   "version": "3.8.3"
  },
  "orig_nbformat": 4,
  "vscode": {
   "interpreter": {
    "hash": "aee8b7b246df8f9039afb4144a1f6fd8d2ca17a180786b69acc140d282b71a49"
   }
  }
 },
 "nbformat": 4,
 "nbformat_minor": 2
}
